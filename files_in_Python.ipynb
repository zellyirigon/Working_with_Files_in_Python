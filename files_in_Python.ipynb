{
 "cells": [
  {
   "cell_type": "markdown",
   "id": "8dcbf2d6-0fb2-42ae-9d5a-1c626f41729d",
   "metadata": {},
   "source": [
    "# Files in Python"
   ]
  },
  {
   "cell_type": "markdown",
   "id": "dd933280-42e1-455c-9fa7-561752fdbdc4",
   "metadata": {},
   "source": [
    "## Creating a File"
   ]
  },
  {
   "cell_type": "code",
   "execution_count": null,
   "id": "ca1e8bda-0c07-42e5-a9be-e4bc373f00bd",
   "metadata": {},
   "outputs": [],
   "source": [
    "path = 'D:\\Analyst_Builder_Course\\python'"
   ]
  },
  {
   "cell_type": "code",
   "execution_count": 2,
   "id": "f3ba4a9d-60c3-4b3c-bb01-17bdb67a150c",
   "metadata": {},
   "outputs": [
    {
     "data": {
      "text/plain": [
       "<_io.TextIOWrapper name='D:\\\\Analyst_Builder_Course\\\\python\\\\Fake_File.txt' mode='x' encoding='cp1252'>"
      ]
     },
     "execution_count": 2,
     "metadata": {},
     "output_type": "execute_result"
    }
   ],
   "source": [
    "# path \\ file name.extension, x(create)  - alt+shift to see information into method open()\n",
    "open('D:\\Analyst_Builder_Course\\python\\Fake_File.txt','x')"
   ]
  },
  {
   "cell_type": "code",
   "execution_count": 4,
   "id": "6b680d09-5026-4620-acaf-c791b918e743",
   "metadata": {},
   "outputs": [],
   "source": [
    "write_file = open('D:\\Analyst_Builder_Course\\python\\Fake_File.txt','w')"
   ]
  },
  {
   "cell_type": "code",
   "execution_count": 5,
   "id": "02357551-c9e8-4701-a999-f867aa54ae2b",
   "metadata": {},
   "outputs": [],
   "source": [
    "# csv format\n",
    "write_file = open('D:\\Analyst_Builder_Course\\python\\Fake_File.csv','w')"
   ]
  },
  {
   "cell_type": "code",
   "execution_count": 6,
   "id": "c2062d6a-45a7-4189-94e8-35d9bdd7099d",
   "metadata": {},
   "outputs": [],
   "source": [
    "# Json format\n",
    "write_file = open('D:\\Analyst_Builder_Course\\python\\Fake_File.json','w')"
   ]
  },
  {
   "cell_type": "markdown",
   "id": "24964738-70ea-4957-b6f3-6f13e5567c7f",
   "metadata": {},
   "source": [
    "## Reading, Closing, and Writing to Files"
   ]
  },
  {
   "cell_type": "code",
   "execution_count": 7,
   "id": "62cfa4dd-abee-41b4-be4f-10faee7bb334",
   "metadata": {},
   "outputs": [],
   "source": [
    "read_file = open('D:\\Analyst_Builder_Course\\python\\Fake_File.txt','r')"
   ]
  },
  {
   "cell_type": "code",
   "execution_count": 8,
   "id": "37e1a416-8ca7-4ff8-854c-ce87eec1a2bd",
   "metadata": {},
   "outputs": [
    {
     "name": "stdout",
     "output_type": "stream",
     "text": [
      "Hello, I am learning to manipulate files in Python.\n"
     ]
    }
   ],
   "source": [
    "print(read_file.read())"
   ]
  },
  {
   "cell_type": "code",
   "execution_count": 10,
   "id": "6f108d0e-2a60-43dc-876c-0621c9d3bcb4",
   "metadata": {},
   "outputs": [
    {
     "data": {
      "text/plain": [
       "67"
      ]
     },
     "execution_count": 10,
     "metadata": {},
     "output_type": "execute_result"
    }
   ],
   "source": [
    "write_file = open('D:\\Analyst_Builder_Course\\python\\Fake_File.txt','w')\n",
    "# Be careful because the write option overwrites the existing file!!\n",
    "write_file.write('This is the first time I am writing to a file using Python! Woohoo!')"
   ]
  },
  {
   "cell_type": "code",
   "execution_count": 11,
   "id": "3ec04c23-27e8-4dab-94fc-a9e7bee0799d",
   "metadata": {},
   "outputs": [
    {
     "name": "stdout",
     "output_type": "stream",
     "text": [
      "\n"
     ]
    }
   ],
   "source": [
    "read_file = open('D:\\Analyst_Builder_Course\\python\\Fake_File.txt','r')\n",
    "print(read_file.read())"
   ]
  },
  {
   "cell_type": "code",
   "execution_count": 12,
   "id": "3ba0709d-5e8a-471b-ba80-28a337ea2b06",
   "metadata": {},
   "outputs": [],
   "source": [
    "# because I didn't close the read option, it isn't possible to read now the file.\n",
    "read_file.close()\n",
    "write_file.close()"
   ]
  },
  {
   "cell_type": "code",
   "execution_count": 16,
   "id": "53910ec0-97b9-4f3a-8e44-2cd8a25de355",
   "metadata": {},
   "outputs": [
    {
     "data": {
      "text/plain": [
       "67"
      ]
     },
     "execution_count": 16,
     "metadata": {},
     "output_type": "execute_result"
    }
   ],
   "source": [
    "# run write option again\n",
    "write_file = open('D:\\Analyst_Builder_Course\\python\\Fake_File.txt','w')\n",
    "write_file.write('This is the first time I am writing to a file using Python! Woohoo!')"
   ]
  },
  {
   "cell_type": "code",
   "execution_count": 17,
   "id": "371e0146-74eb-44ed-b2da-a61a09da9847",
   "metadata": {},
   "outputs": [],
   "source": [
    "#close write option\n",
    "write_file.close()"
   ]
  },
  {
   "cell_type": "code",
   "execution_count": 18,
   "id": "7f4e7b6a-9292-442c-be43-e6899785393d",
   "metadata": {},
   "outputs": [
    {
     "name": "stdout",
     "output_type": "stream",
     "text": [
      "This is the first time I am writing to a file using Python! Woohoo!\n"
     ]
    }
   ],
   "source": [
    "# Then read..\n",
    "read_file = open('D:\\Analyst_Builder_Course\\python\\Fake_File.txt','r')\n",
    "print(read_file.read())"
   ]
  },
  {
   "cell_type": "markdown",
   "id": "57c726d8-c6ea-4747-ae20-0a17e98b93f3",
   "metadata": {},
   "source": [
    "## Context Managers\n",
    "\n",
    "\n",
    "  Context managers provide several benefits, including:\r\n",
    "  \r\n",
    "Automatic resource management: Context managers ensure that resources are properly allocated and released, even if exceptions occur within the block.  \r\n",
    "\r\n",
    "Readability: The with statement makes the code more readable by clearly indicating the scope of resource usag  e.\r\n",
    "\r\n",
    "Error handling: Context managers simplify error handling by automatically releasing resources in case of exceptions."
   ]
  },
  {
   "cell_type": "code",
   "execution_count": 20,
   "id": "1a1fffbf-8a49-45c4-a727-8968abff444d",
   "metadata": {},
   "outputs": [],
   "source": [
    "with open('D:\\Analyst_Builder_Course\\python\\Fake_File.txt','w') as read_file:\n",
    "    read_file.write('This is our first time using a Context Manager! Woohoo!')"
   ]
  },
  {
   "cell_type": "markdown",
   "id": "06991e8a-11d9-484d-8924-bd03f2533042",
   "metadata": {},
   "source": [
    "## Writing and Appending in a File"
   ]
  },
  {
   "cell_type": "code",
   "execution_count": 2,
   "id": "6e26b02f-d057-4503-a27f-bc1cc8d1dd52",
   "metadata": {},
   "outputs": [],
   "source": [
    "#Creating and writing a setence in the file \n",
    "#context manager\n",
    "with open(r'D:\\Analyst_Builder_Course\\python\\NewFile.txt','w') as write_file:\n",
    "    write_file.write('This is the first sentence in this file')"
   ]
  },
  {
   "cell_type": "code",
   "execution_count": 4,
   "id": "e1e0774a-8460-4515-b80b-f2ce415d3014",
   "metadata": {},
   "outputs": [
    {
     "name": "stdout",
     "output_type": "stream",
     "text": [
      "This is the first sentence in this file\n"
     ]
    }
   ],
   "source": [
    "#Reading the file using context manager\n",
    "with open(r'D:\\Analyst_Builder_Course\\python\\NewFile.txt','r') as read_file:\n",
    "    print(read_file.read())"
   ]
  },
  {
   "cell_type": "code",
   "execution_count": 5,
   "id": "9c28934f-e645-48d2-a8ee-d26500b12149",
   "metadata": {},
   "outputs": [],
   "source": [
    "# appending a new sentence in the file without overwrite. For this purpose, use append 'a'\n",
    "#/n to break line\n",
    "with open(r'D:\\Analyst_Builder_Course\\python\\NewFile.txt', 'a') as append_file:\n",
    "    append_file.write('\\nThis is the second sentence using Append.')"
   ]
  },
  {
   "cell_type": "code",
   "execution_count": 9,
   "id": "284e83b8-a3af-471e-87e3-8938149d6a64",
   "metadata": {},
   "outputs": [
    {
     "name": "stdout",
     "output_type": "stream",
     "text": [
      "This is the first sentence in this file\n",
      "This is the second sentence using Append.\n",
      "This is the third line.\n",
      "This is the forth line\n",
      "\n"
     ]
    }
   ],
   "source": [
    "#Reading the file using context manager\n",
    "with open(r'D:\\Analyst_Builder_Course\\python\\NewFile.txt','r') as read_file:\n",
    "    print(read_file.read())"
   ]
  },
  {
   "cell_type": "code",
   "execution_count": 8,
   "id": "90160d78-c35f-4370-bae0-b9212026ea5b",
   "metadata": {},
   "outputs": [],
   "source": [
    "# another way to add new lines in the file.\n",
    "text = \"\"\"\n",
    "This is the third line.\n",
    "This is the forth line\n",
    "\"\"\"\n",
    "with open(r'D:\\Analyst_Builder_Course\\python\\NewFile.txt','a') as append_file:\n",
    "    append_file.write(text)"
   ]
  },
  {
   "cell_type": "code",
   "execution_count": 10,
   "id": "614709df-d83b-4449-ab12-7d50acf3bdbe",
   "metadata": {},
   "outputs": [
    {
     "name": "stdout",
     "output_type": "stream",
     "text": [
      "This is the first sentence in this file\n",
      "This is the second sentence using Append.\n",
      "This is the third line.\n",
      "This is the forth line\n",
      "\n"
     ]
    }
   ],
   "source": [
    "with open(r'D:\\Analyst_Builder_Course\\python\\NewFile.txt','r') as read_file:\n",
    "    print(read_file.read())"
   ]
  },
  {
   "cell_type": "code",
   "execution_count": 12,
   "id": "0e828375-f220-4d53-9b1e-892ad59b0296",
   "metadata": {},
   "outputs": [],
   "source": [
    "# CSV file\n",
    "import csv\n",
    "\n",
    "column_names = ['Name', 'Job','Age']\n",
    "data = [['Zelly Irigon','Data Analyst',42],['Julia Irigon','Developer',18],['Laura Irigon','Designer',17]]\n",
    "\n",
    "with open(r'D:\\Analyst_Builder_Course\\python\\CSVFile.csv','w',newline = '') as write_file:\n",
    "    csv_writer = csv.writer(write_file)\n",
    "    csv_writer.writerow(column_names) #writerow add only one line\n",
    "    csv_writer.writerows(data) #writerowS add many lines"
   ]
  },
  {
   "cell_type": "code",
   "execution_count": null,
   "id": "10f05c52-0ce3-4114-a674-cf9e2075d88c",
   "metadata": {},
   "outputs": [],
   "source": []
  },
  {
   "cell_type": "code",
   "execution_count": 13,
   "id": "6ae90b97-7025-44e3-9f4e-e03c160669ee",
   "metadata": {},
   "outputs": [
    {
     "name": "stdout",
     "output_type": "stream",
     "text": [
      "Name,Job,Age\n",
      "Zelly Irigon,Data Analyst,42\n",
      "Julia Irigon,Developer,18\n",
      "Laura Irigon,Designer,17\n",
      "\n"
     ]
    }
   ],
   "source": [
    "with open(r'D:\\Analyst_Builder_Course\\python\\CSVFile.csv','r') as read_file:\n",
    "    print(read_file.read())"
   ]
  },
  {
   "cell_type": "code",
   "execution_count": 15,
   "id": "3218da63-7e3d-4fdc-8a67-34efcb78df10",
   "metadata": {},
   "outputs": [],
   "source": [
    "#Using DICTIONARY\n",
    "import csv\n",
    "\n",
    "column_names = ['Name', 'Job','Age']\n",
    "my_dict = [{'Name':'Zelly Irigon','Job':'Data Analyst','Age':42},\n",
    "           {'Name':'Julia Irigon','Job':'Developer','Age':18},\n",
    "           {'Name':'Laura Irigon','Job':'Designer','Age':17}]\n",
    "\n",
    "with open(r'D:\\Analyst_Builder_Course\\python\\CSVFile.csv','w',newline = '') as write_file:\n",
    "    csv_writer = csv.DictWriter(write_file,column_names)\n",
    "    csv_writer.writeheader() \n",
    "    csv_writer.writerows(my_dict) "
   ]
  },
  {
   "cell_type": "code",
   "execution_count": 16,
   "id": "e6b025bb-8a9a-40a0-9c63-9d6d7749d2f6",
   "metadata": {},
   "outputs": [],
   "source": [
    "# JSON -semi structured data\n",
    "import json\n",
    "\n",
    "column_names = ['Name', 'Job','Age']\n",
    "my_dict = [{'Name':'Zelly Irigon','Job':'Data Analyst','Age':42},\n",
    "           {'Name':'Julia Irigon','Job':'Developer','Age':18},\n",
    "           {'Name':'Laura Irigon','Job':'Designer','Age':17}]\n",
    "\n",
    "with open(r'D:\\Analyst_Builder_Course\\python\\JSONFile.json','w',newline = '') as write_file:\n",
    "    json.dump(my_dict, write_file)\n",
    " \n",
    "    "
   ]
  },
  {
   "cell_type": "markdown",
   "id": "d1505afc-3c25-4dab-a359-758e7950f6a7",
   "metadata": {},
   "source": [
    "## Creating a Folder"
   ]
  },
  {
   "cell_type": "code",
   "execution_count": 17,
   "id": "8e117833-0f85-4dac-97cd-bf74e6a84e36",
   "metadata": {},
   "outputs": [],
   "source": [
    "# It is a module that allows us to work with many operating systems on our computer using Python.\n",
    "import os"
   ]
  },
  {
   "cell_type": "code",
   "execution_count": 18,
   "id": "e10a52e7-db30-4387-8172-27b2a91df4aa",
   "metadata": {},
   "outputs": [],
   "source": [
    "# make directory\n",
    "os.mkdir(r'D:\\Analyst_Builder_Course\\python\\Example_Folder')"
   ]
  },
  {
   "cell_type": "code",
   "execution_count": 20,
   "id": "04980790-ce0a-43aa-81ea-39ed23da5d9a",
   "metadata": {},
   "outputs": [],
   "source": [
    "# The best practice is validate if the folder already exist.\n",
    "if not os.path.exists(r'D:\\Analyst_Builder_Course\\python\\Example_Folder2'):\n",
    "    os.mkdir(r'D:\\Analyst_Builder_Course\\python\\Example_Folder2')"
   ]
  },
  {
   "cell_type": "code",
   "execution_count": 22,
   "id": "a7e60a81-4da4-4abb-b148-acf2a6f9ae79",
   "metadata": {},
   "outputs": [],
   "source": [
    "# creating multiple folders\n",
    "if not os.path.exists(r'D:\\Analyst_Builder_Course\\python\\Example_Folder2\\Sub_Folder2.1\\Sub_Folder2.2\\Sub_Folder2.3'):\n",
    "    os.makedirs(r'D:\\Analyst_Builder_Course\\python\\Example_Folder2\\Sub_Folder2.1\\Sub_Folder2.2\\Sub_Folder2.3')"
   ]
  },
  {
   "cell_type": "markdown",
   "id": "f855e44c-f6e8-4cf2-ac3e-8cc661b55f1c",
   "metadata": {},
   "source": [
    "## Copy and Moving Files"
   ]
  },
  {
   "cell_type": "code",
   "execution_count": 2,
   "id": "e0b8e51a-9b64-4112-a233-86dfb6e93798",
   "metadata": {},
   "outputs": [],
   "source": [
    "import os\n",
    "import shutil\n",
    "# The shutil module in Python is gonna allow me to perform high-level operations on files and multiple files at the same time. \n",
    "# Very helpful in the automation process of copying, moving and removing files from directories."
   ]
  },
  {
   "cell_type": "code",
   "execution_count": 5,
   "id": "ea0d17c7-cd74-4d91-adeb-c36a7b10c9b4",
   "metadata": {},
   "outputs": [],
   "source": [
    "path = r'D:\\Analyst_Builder_Course\\python\\Fake_File.csv'"
   ]
  },
  {
   "cell_type": "code",
   "execution_count": 6,
   "id": "4347d485-ecc8-437f-941f-647894898213",
   "metadata": {},
   "outputs": [
    {
     "data": {
      "text/plain": [
       "'D:\\\\Analyst_Builder_Course\\\\python\\\\Example_Folder\\\\Fake_File.csv'"
      ]
     },
     "execution_count": 6,
     "metadata": {},
     "output_type": "execute_result"
    }
   ],
   "source": [
    "# moving the folder\n",
    "shutil.move(path,r'D:\\Analyst_Builder_Course\\python\\Example_Folder\\Fake_File.csv')"
   ]
  },
  {
   "cell_type": "code",
   "execution_count": 8,
   "id": "ef26c6c3-e665-4111-b29e-4b78b4c0bf55",
   "metadata": {},
   "outputs": [],
   "source": [
    "path = r'D:\\Analyst_Builder_Course\\python\\Fake_File.txt'"
   ]
  },
  {
   "cell_type": "code",
   "execution_count": 10,
   "id": "f3c6bf49-3f0a-42a2-b806-cfe1f0ae5073",
   "metadata": {},
   "outputs": [
    {
     "data": {
      "text/plain": [
       "'D:\\\\Analyst_Builder_Course\\\\python\\\\Example_Folder\\\\Fake_File_changed.txt'"
      ]
     },
     "execution_count": 10,
     "metadata": {},
     "output_type": "execute_result"
    }
   ],
   "source": [
    "# copying file and assigning new name for the file '_changed'\n",
    "shutil.copy(path,r'D:\\Analyst_Builder_Course\\python\\Example_Folder\\Fake_File_changed.txt')"
   ]
  },
  {
   "cell_type": "code",
   "execution_count": null,
   "id": "f5a0335d-a8a2-48b1-b47d-f4e3972dba4b",
   "metadata": {},
   "outputs": [],
   "source": []
  },
  {
   "cell_type": "code",
   "execution_count": null,
   "id": "6e1f53e6-16ec-4308-aab6-52b0ef17659c",
   "metadata": {},
   "outputs": [],
   "source": []
  },
  {
   "cell_type": "code",
   "execution_count": null,
   "id": "f4f08975-a622-41c0-bea3-57a29a3ef68e",
   "metadata": {},
   "outputs": [],
   "source": []
  },
  {
   "cell_type": "code",
   "execution_count": null,
   "id": "3383fe46-12ea-4177-8c9d-df43cc0fa446",
   "metadata": {},
   "outputs": [],
   "source": []
  },
  {
   "cell_type": "code",
   "execution_count": null,
   "id": "cb42e4ba-0783-4604-94ce-df636c5d8431",
   "metadata": {},
   "outputs": [],
   "source": []
  },
  {
   "cell_type": "code",
   "execution_count": null,
   "id": "3ae7539f-1b73-4618-a2c5-19d531645a59",
   "metadata": {},
   "outputs": [],
   "source": []
  },
  {
   "cell_type": "code",
   "execution_count": null,
   "id": "d57b83ae-e6e1-4c60-8685-b73ff4c32eb8",
   "metadata": {},
   "outputs": [],
   "source": []
  },
  {
   "cell_type": "code",
   "execution_count": null,
   "id": "0f69009e-48c6-484f-b9bc-228faa716f3c",
   "metadata": {},
   "outputs": [],
   "source": []
  },
  {
   "cell_type": "code",
   "execution_count": null,
   "id": "2bef1545-0458-4593-8e5e-8d47d0b8b5e6",
   "metadata": {},
   "outputs": [],
   "source": []
  },
  {
   "cell_type": "code",
   "execution_count": null,
   "id": "d7e31ae3-9555-41ec-bacd-7aa80714d485",
   "metadata": {},
   "outputs": [],
   "source": []
  },
  {
   "cell_type": "code",
   "execution_count": null,
   "id": "40a453c2-8835-45dd-bb51-3b80263aefb4",
   "metadata": {},
   "outputs": [],
   "source": []
  },
  {
   "cell_type": "code",
   "execution_count": null,
   "id": "1f7c916a-9f5f-4486-9cec-7fa20d405adb",
   "metadata": {},
   "outputs": [],
   "source": []
  },
  {
   "cell_type": "code",
   "execution_count": null,
   "id": "aa61dadb-6acc-4511-95f1-627821d485e7",
   "metadata": {},
   "outputs": [],
   "source": []
  },
  {
   "cell_type": "code",
   "execution_count": null,
   "id": "38782893-e591-4e56-8dc7-97726d2dc30e",
   "metadata": {},
   "outputs": [],
   "source": []
  },
  {
   "cell_type": "code",
   "execution_count": null,
   "id": "369526a0-b85c-486c-a288-ca6f5d88a521",
   "metadata": {},
   "outputs": [],
   "source": []
  },
  {
   "cell_type": "code",
   "execution_count": null,
   "id": "1dddfb11-eb88-424e-9b30-8519a4e203cd",
   "metadata": {},
   "outputs": [],
   "source": []
  },
  {
   "cell_type": "code",
   "execution_count": null,
   "id": "e4289fd7-0b8f-4d75-bd74-ddb7d19308fb",
   "metadata": {},
   "outputs": [],
   "source": []
  },
  {
   "cell_type": "code",
   "execution_count": null,
   "id": "807dbdfb-83ea-492e-a3db-4bf26f1f64b3",
   "metadata": {},
   "outputs": [],
   "source": []
  },
  {
   "cell_type": "code",
   "execution_count": null,
   "id": "661ceae2-34c0-4bbd-a6ef-e58fff032fa5",
   "metadata": {},
   "outputs": [],
   "source": []
  },
  {
   "cell_type": "code",
   "execution_count": null,
   "id": "503795a1-3b36-4c74-8beb-5c14e3793a42",
   "metadata": {},
   "outputs": [],
   "source": []
  },
  {
   "cell_type": "code",
   "execution_count": null,
   "id": "abda4f05-3adc-4cbc-8499-d8e1df7d6b9c",
   "metadata": {},
   "outputs": [],
   "source": []
  },
  {
   "cell_type": "code",
   "execution_count": null,
   "id": "cc671461-b793-4af7-b458-4f88f5145e17",
   "metadata": {},
   "outputs": [],
   "source": []
  },
  {
   "cell_type": "code",
   "execution_count": null,
   "id": "3c91516a-8fcc-4c2f-a915-5a62d9fa1e34",
   "metadata": {},
   "outputs": [],
   "source": []
  }
 ],
 "metadata": {
  "kernelspec": {
   "display_name": "Python 3 (ipykernel)",
   "language": "python",
   "name": "python3"
  },
  "language_info": {
   "codemirror_mode": {
    "name": "ipython",
    "version": 3
   },
   "file_extension": ".py",
   "mimetype": "text/x-python",
   "name": "python",
   "nbconvert_exporter": "python",
   "pygments_lexer": "ipython3",
   "version": "3.11.7"
  }
 },
 "nbformat": 4,
 "nbformat_minor": 5
}
